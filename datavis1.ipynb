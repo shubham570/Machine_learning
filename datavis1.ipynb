{
  "nbformat": 4,
  "nbformat_minor": 0,
  "metadata": {
    "colab": {
      "name": "datavis1.ipynb",
      "version": "0.3.2",
      "provenance": [],
      "collapsed_sections": [],
      "include_colab_link": true
    },
    "kernelspec": {
      "name": "python3",
      "display_name": "Python 3"
    }
  },
  "cells": [
    {
      "cell_type": "markdown",
      "metadata": {
        "id": "view-in-github",
        "colab_type": "text"
      },
      "source": [
        "<a href=\"https://colab.research.google.com/github/shubham570/Machine_learning/blob/master/datavis1.ipynb\" target=\"_parent\"><img src=\"https://colab.research.google.com/assets/colab-badge.svg\" alt=\"Open In Colab\"/></a>"
      ]
    },
    {
      "cell_type": "code",
      "metadata": {
        "id": "ais50mcreOXT",
        "colab_type": "code",
        "colab": {}
      },
      "source": [
        "import numpy as np"
      ],
      "execution_count": 0,
      "outputs": []
    },
    {
      "cell_type": "code",
      "metadata": {
        "id": "J9KH8g6Ei_gy",
        "colab_type": "code",
        "outputId": "6d4beafe-2a01-431e-be65-084c88cceb14",
        "colab": {
          "base_uri": "https://localhost:8080/",
          "height": 100
        }
      },
      "source": [
        "a=np.array([['Student_Name','Marks','Age','Contact','Study_hours'],['Shubham',86,19,9929306100,6],['Vikas',91,18,8765897458,7],['Tanya',96,19,7745868759,7],['Akshita',84,20,9413170218,6]])\n",
        "a"
      ],
      "execution_count": 0,
      "outputs": [
        {
          "output_type": "execute_result",
          "data": {
            "text/plain": [
              "array([['Student_Name', 'Marks', 'Age', 'Contact', 'Study_hours'],\n",
              "       ['Shubham', '86', '19', '9929306100', '6'],\n",
              "       ['Vikas', '91', '18', '8765897458', '7'],\n",
              "       ['Tanya', '96', '19', '7745868759', '7'],\n",
              "       ['Akshita', '84', '20', '9413170218', '6']], dtype='<U12')"
            ]
          },
          "metadata": {
            "tags": []
          },
          "execution_count": 13
        }
      ]
    },
    {
      "cell_type": "code",
      "metadata": {
        "id": "dfp8CwtPkXmQ",
        "colab_type": "code",
        "outputId": "416e4537-27d0-4951-bcc6-b207654077da",
        "colab": {
          "base_uri": "https://localhost:8080/",
          "height": 33
        }
      },
      "source": [
        "type(a)"
      ],
      "execution_count": 0,
      "outputs": [
        {
          "output_type": "execute_result",
          "data": {
            "text/plain": [
              "numpy.ndarray"
            ]
          },
          "metadata": {
            "tags": []
          },
          "execution_count": 14
        }
      ]
    },
    {
      "cell_type": "code",
      "metadata": {
        "id": "FyZzJJSwkx1r",
        "colab_type": "code",
        "colab": {}
      },
      "source": [
        "import csv\n",
        "with open('student.csv', 'w') as csvfile:\n",
        "  writer= csv.writer(csvfile)\n",
        "  writer.writerows(a)\n",
        "csvfile.close()  "
      ],
      "execution_count": 0,
      "outputs": []
    },
    {
      "cell_type": "code",
      "metadata": {
        "id": "COi0g33PlkuJ",
        "colab_type": "code",
        "outputId": "caa8ea8f-b8d9-4eec-e592-efd2be23a83f",
        "colab": {
          "base_uri": "https://localhost:8080/",
          "height": 166
        }
      },
      "source": [
        "import pandas as pd\n",
        "sh=pd.read_csv('student.csv')\n",
        "sh"
      ],
      "execution_count": 0,
      "outputs": [
        {
          "output_type": "execute_result",
          "data": {
            "text/html": [
              "<div>\n",
              "<style scoped>\n",
              "    .dataframe tbody tr th:only-of-type {\n",
              "        vertical-align: middle;\n",
              "    }\n",
              "\n",
              "    .dataframe tbody tr th {\n",
              "        vertical-align: top;\n",
              "    }\n",
              "\n",
              "    .dataframe thead th {\n",
              "        text-align: right;\n",
              "    }\n",
              "</style>\n",
              "<table border=\"1\" class=\"dataframe\">\n",
              "  <thead>\n",
              "    <tr style=\"text-align: right;\">\n",
              "      <th></th>\n",
              "      <th>Student_Name</th>\n",
              "      <th>Marks</th>\n",
              "      <th>Age</th>\n",
              "      <th>Contact</th>\n",
              "      <th>Study_hours</th>\n",
              "    </tr>\n",
              "  </thead>\n",
              "  <tbody>\n",
              "    <tr>\n",
              "      <th>0</th>\n",
              "      <td>Shubham</td>\n",
              "      <td>86</td>\n",
              "      <td>19</td>\n",
              "      <td>9929306100</td>\n",
              "      <td>6</td>\n",
              "    </tr>\n",
              "    <tr>\n",
              "      <th>1</th>\n",
              "      <td>Vikas</td>\n",
              "      <td>91</td>\n",
              "      <td>18</td>\n",
              "      <td>8765897458</td>\n",
              "      <td>7</td>\n",
              "    </tr>\n",
              "    <tr>\n",
              "      <th>2</th>\n",
              "      <td>Tanya</td>\n",
              "      <td>96</td>\n",
              "      <td>19</td>\n",
              "      <td>7745868759</td>\n",
              "      <td>7</td>\n",
              "    </tr>\n",
              "    <tr>\n",
              "      <th>3</th>\n",
              "      <td>Akshita</td>\n",
              "      <td>84</td>\n",
              "      <td>20</td>\n",
              "      <td>9413170218</td>\n",
              "      <td>6</td>\n",
              "    </tr>\n",
              "  </tbody>\n",
              "</table>\n",
              "</div>"
            ],
            "text/plain": [
              "  Student_Name  Marks  Age     Contact  Study_hours\n",
              "0      Shubham     86   19  9929306100            6\n",
              "1        Vikas     91   18  8765897458            7\n",
              "2        Tanya     96   19  7745868759            7\n",
              "3      Akshita     84   20  9413170218            6"
            ]
          },
          "metadata": {
            "tags": []
          },
          "execution_count": 17
        }
      ]
    },
    {
      "cell_type": "code",
      "metadata": {
        "id": "aAfQGAwOl87U",
        "colab_type": "code",
        "outputId": "02d497bf-61e9-409e-a6a9-351f662db5d4",
        "colab": {
          "base_uri": "https://localhost:8080/",
          "height": 455
        }
      },
      "source": [
        "import matplotlib.pyplot as plt\n",
        "marks=sh['Marks']\n",
        "names=sh['Student_Name']\n",
        "study=sh['Study_hours']\n",
        "exp=[0.1,0.1,0.1,0.1]\n",
        "plt.pie(marks,labels=names,autopct='%1.1f%%',explode=exp)\n"
      ],
      "execution_count": 0,
      "outputs": [
        {
          "output_type": "execute_result",
          "data": {
            "text/plain": [
              "([<matplotlib.patches.Wedge at 0x7f3c6150f3c8>,\n",
              "  <matplotlib.patches.Wedge at 0x7f3c6150fb00>,\n",
              "  <matplotlib.patches.Wedge at 0x7f3c6151a240>,\n",
              "  <matplotlib.patches.Wedge at 0x7f3c6151a940>],\n",
              " [Text(0.8724456700361203, 0.8239165933729127, 'Shubham'),\n",
              "  Text(-0.8123289356929597, 0.8832449831365834, 'Vikas'),\n",
              "  Text(-0.8200697555206928, -0.876062552606965, 'Tanya'),\n",
              "  Text(0.8868108498208186, -0.8084346087594703, 'Akshita')],\n",
              " [Text(0.5089266408544034, 0.4806180128008657, '24.1%'),\n",
              "  Text(-0.4738585458208931, 0.5152262401630069, '25.5%'),\n",
              "  Text(-0.4783740240537374, -0.5110364890207295, '26.9%'),\n",
              "  Text(0.5173063290621441, -0.47158685510969095, '23.5%')])"
            ]
          },
          "metadata": {
            "tags": []
          },
          "execution_count": 34
        },
        {
          "output_type": "display_data",
          "data": {
            "image/png": "[encoded data removed]",
            "text/plain": [
              "<Figure size 432x288 with 1 Axes>"
            ]
          },
          "metadata": {
            "tags": []
          }
        }
      ]
    },
    {
      "cell_type": "code",
      "metadata": {
        "id": "vQvpV47BnD4C",
        "colab_type": "code",
        "outputId": "1e71a4f7-6319-46e5-8da0-0f9d1ea3931e",
        "colab": {
          "base_uri": "https://localhost:8080/",
          "height": 455
        }
      },
      "source": [
        "plt.pie(study,labels=names,autopct='%1.1f%%')"
      ],
      "execution_count": 0,
      "outputs": [
        {
          "output_type": "execute_result",
          "data": {
            "text/plain": [
              "([<matplotlib.patches.Wedge at 0x7f3c616046d8>,\n",
              "  <matplotlib.patches.Wedge at 0x7f3c61604e10>,\n",
              "  <matplotlib.patches.Wedge at 0x7f3c6158e550>,\n",
              "  <matplotlib.patches.Wedge at 0x7f3c6158ec50>],\n",
              " [Text(0.8233618203614949, 0.7294349270298247, 'Shubham'),\n",
              "  Text(-0.7294349655741723, 0.8233617862141808, 'Vikas'),\n",
              "  Text(-0.7294348113967719, -0.8233619228034267, 'Tanya'),\n",
              "  Text(0.8233619569507337, -0.7294347728524179, 'Akshita')],\n",
              " [Text(0.44910644746990624, 0.3978735965617225, '23.1%'),\n",
              "  Text(-0.3978736175859121, 0.44910642884409857, '26.9%'),\n",
              "  Text(-0.3978735334891483, -0.4491065033473236, '26.9%'),\n",
              "  Text(0.4491065219731274, -0.39787351246495517, '23.1%')])"
            ]
          },
          "metadata": {
            "tags": []
          },
          "execution_count": 32
        },
        {
          "output_type": "display_data",
          "data": {
            "image/png": "[encoded data removed]",
            "text/plain": [
              "<Figure size 432x288 with 1 Axes>"
            ]
          },
          "metadata": {
            "tags": []
          }
        }
      ]
    },
    {
      "cell_type": "code",
      "metadata": {
        "id": "0fLnku12neB9",
        "colab_type": "code",
        "colab": {}
      },
      "source": [
        ""
      ],
      "execution_count": 0,
      "outputs": []
    },
    {
      "cell_type": "code",
      "metadata": {
        "id": "yGLSwxq9nodk",
        "colab_type": "code",
        "colab": {}
      },
      "source": [
        ""
      ],
      "execution_count": 0,
      "outputs": []
    }
  ]
}